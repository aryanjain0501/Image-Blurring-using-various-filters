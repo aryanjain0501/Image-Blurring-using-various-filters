{
 "cells": [
  {
   "cell_type": "code",
   "execution_count": 21,
   "id": "d40a8b4a",
   "metadata": {},
   "outputs": [],
   "source": [
    "#importing image processing librabies\n",
    "import numpy as np\n",
    "import pandas as pd\n",
    "import cv2\n",
    "from skimage import io\n",
    "from PIL import Image \n",
    "import matplotlib.pylab as plt"
   ]
  },
  {
   "cell_type": "code",
   "execution_count": 23,
   "id": "a699f9e3",
   "metadata": {},
   "outputs": [],
   "source": [
    "#loading image\n",
    "image = cv2.imread(\"D:/PES_engineering/5th sem/DIP/assignment/Lena.png\") \n",
    "kernelSizes = [(3, 3), (9, 9), (15, 15)]"
   ]
  },
  {
   "cell_type": "code",
   "execution_count": 25,
   "id": "3481c3e2",
   "metadata": {},
   "outputs": [],
   "source": [
    "#blurring using average\n",
    "def average_filter():\n",
    "    cv2.imshow(\"Original\", image)\n",
    "    for (kX, kY) in kernelSizes:\n",
    "        # apply a \"mean\" blur to the image\n",
    "        blurred = cv2.blur(image, (kX, kY))\n",
    "        cv2.imshow(\"Average ({}, {})\".format(kX, kY), blurred)\n",
    "        cv2.waitKey(0)\n",
    "    cv2.destroyAllWindows()"
   ]
  },
  {
   "cell_type": "code",
   "execution_count": 27,
   "id": "84c7c0bf",
   "metadata": {},
   "outputs": [],
   "source": [
    "#blurring using median filter\n",
    "def median_filter():\n",
    "    cv2.imshow(\"Original\", image)\n",
    "    for k in (3, 9, 15):\n",
    "        # apply a \"median\" blur to the image\n",
    "        blurred = cv2.medianBlur(image, k)\n",
    "        cv2.imshow(\"Median {}\".format(k), blurred)\n",
    "        cv2.waitKey(0)\n",
    "    cv2.destroyAllWindows()"
   ]
  },
  {
   "cell_type": "code",
   "execution_count": 29,
   "id": "8206f217",
   "metadata": {},
   "outputs": [],
   "source": [
    "#blurring using gaussian filter\n",
    "def gaussian_filter():\n",
    "    cv2.imshow(\"Original\", image)\n",
    "    for (kX, kY) in kernelSizes:\n",
    "        # apply a \"Gaussian\" blur to the image\n",
    "        blurred = cv2.GaussianBlur(image, (kX, kY), 0)\n",
    "        cv2.imshow(\"Gaussian ({}, {})\".format(kX, kY), blurred)\n",
    "        cv2.waitKey(0)\n",
    "    cv2.destroyAllWindows()"
   ]
  },
  {
   "cell_type": "code",
   "execution_count": 31,
   "id": "12f20be4",
   "metadata": {},
   "outputs": [],
   "source": [
    "#blurring using bilateral filter\n",
    "def bilateral_filter():\n",
    "    cv2.imshow(\"Original\", image)\n",
    "    params = [(11, 21, 7), (11, 41, 21), (11, 61, 39)]\n",
    "    # loop over the diameter, sigma color, and sigma space\n",
    "    for (diameter, sigmaColor, sigmaSpace) in params:\n",
    "        # apply bilateral filtering to the image using the current set of\n",
    "        # parameters\n",
    "        blurred = cv2.bilateralFilter(image, diameter, sigmaColor, sigmaSpace)\n",
    "        # show the output image and associated parameters\n",
    "        title = \"Blurred d={}, sc={}, ss={}\".format(\n",
    "            diameter, sigmaColor, sigmaSpace)\n",
    "        cv2.imshow(title, blurred)\n",
    "        cv2.waitKey(0)\n",
    "    cv2.destroyAllWindows()"
   ]
  },
  {
   "cell_type": "code",
   "execution_count": 33,
   "id": "df61f271",
   "metadata": {},
   "outputs": [],
   "source": [
    "def blurring_part_of_an_image():\n",
    "    # Read in image\n",
    "    image1 = cv2.imread('D:/PES_engineering/5th sem/DIP/assignment/Lena.png')\n",
    "    image2 = cv2.imread('D:/PES_engineering/5th sem/DIP/assignment/Lena.png')\n",
    "    image3 = cv2.imread('D:/PES_engineering/5th sem/DIP/assignment/Lena.png')\n",
    "\n",
    "    # Create ROI coordinates\n",
    "    topLeft = (80, 80)\n",
    "    bottomRight = (200, 210)\n",
    "    x, y = topLeft[0], topLeft[1]\n",
    "    w, h = bottomRight[0] - topLeft[0], bottomRight[1] - topLeft[1]\n",
    "\n",
    "    # Grab ROI with Numpy slicing and blur\n",
    "    ROI = image1[y:y+h, x:x+w]\n",
    "    ROI2 = image2[y:y+h, x:x+w]\n",
    "    ROI3 = image3[y:y+h, x:x+w]\n",
    "\n",
    "    blur = cv2.blur(ROI, (9, 9),0)\n",
    "    blur2 = cv2.medianBlur(ROI2, 9)\n",
    "    blur3 = cv2.GaussianBlur(ROI3, (9,9), 0)\n",
    "\n",
    "    # Insert ROI back into image\n",
    "\n",
    "    #average filter\n",
    "    image1[y:y+h, x:x+w] = blur\n",
    "\n",
    "    #median filter\n",
    "    image2[y:y+h, x:x+w] = blur2\n",
    "\n",
    "    #gaussian filter\n",
    "    image3[y:y+h, x:x+w] = blur3\n",
    "\n",
    "\n",
    "    cv2.imshow('Average Blur Image', image1)\n",
    "    cv2.imshow('Median Blur Image', image2)\n",
    "    cv2.imshow('Gaussian Blur Image', image3)\n",
    "\n",
    "    cv2.waitKey()"
   ]
  },
  {
   "cell_type": "code",
   "execution_count": null,
   "id": "760469de",
   "metadata": {},
   "outputs": [],
   "source": [
    "print('Please select any of the below options :',' 1 --> Average or Mean Filter based blurring',\n",
    "      ' 2 --> Median Filter based blurring',' 3 --> Gaussian Filter based blurring',' 4 --> Bilateral Filter based blurring',\n",
    "      ' 5 --> Blurring on part of an Image',sep='\\n')\n",
    "\n",
    "choice = input(\"enter your choice:\")\n",
    "if choice == \"1\":\n",
    "    average_filter()\n",
    "elif choice ==\"2\":\n",
    "    median_filter()\n",
    "elif choice ==\"3\":\n",
    "    gaussian_filter()\n",
    "elif choice ==\"4\":\n",
    "    bilateral_filter()\n",
    "elif choice ==\"5\":\n",
    "    blurring_part_of_an_image()\n",
    "else:\n",
    "    print(\"Please select the correct blurring method\")\n"
   ]
  },
  {
   "cell_type": "code",
   "execution_count": null,
   "id": "881fb02e",
   "metadata": {},
   "outputs": [],
   "source": []
  },
  {
   "cell_type": "code",
   "execution_count": null,
   "id": "63d503cf",
   "metadata": {},
   "outputs": [],
   "source": []
  }
 ],
 "metadata": {
  "kernelspec": {
   "display_name": "Python 3",
   "language": "python",
   "name": "python3"
  },
  "language_info": {
   "codemirror_mode": {
    "name": "ipython",
    "version": 3
   },
   "file_extension": ".py",
   "mimetype": "text/x-python",
   "name": "python",
   "nbconvert_exporter": "python",
   "pygments_lexer": "ipython3",
   "version": "3.8.8"
  }
 },
 "nbformat": 4,
 "nbformat_minor": 5
}
